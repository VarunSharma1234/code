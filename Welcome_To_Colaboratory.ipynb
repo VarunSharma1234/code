{
  "cells": [
    {
      "cell_type": "markdown",
      "metadata": {
        "id": "view-in-github",
        "colab_type": "text"
      },
      "source": [
        "<a href=\"https://colab.research.google.com/github/VarunSharma3520/code/blob/main/Welcome_To_Colaboratory.ipynb\" target=\"_parent\"><img src=\"https://colab.research.google.com/assets/colab-badge.svg\" alt=\"Open In Colab\"/></a>"
      ]
    },
    {
      "cell_type": "code",
      "source": [
        "userData = []\n",
        "def signIn():\n",
        "    print(\"sign in\")\n",
        "def signUp():\n",
        "    print(\"sign up\")\n",
        "def logOut():\n",
        "    print(\"log out\")\n",
        "\n",
        "while True:\n",
        "    print(\"\"\"Press 1 for signUp\n",
        "Press 2 for signIn\n",
        "Press 3 for logOut\n",
        "Press 4 for Quit\"\"\")\n",
        "    userChoice = int(input(\"Enter your choice...\"))\n",
        "    if userChoice == 1:\n",
        "        print(\"Fill Sign In Form\")\n",
        "        signIn()\n",
        "    elif userChoice == 2:\n",
        "        print(\"Fill Sign Up Form\")\n",
        "        signUp()\n",
        "    elif userChoice == 3:\n",
        "        print(\"Logged Out Successfully....\")\n",
        "        logOut()\n",
        "    elif userChoice == 4:\n",
        "        print(\"Thank You for visiting\")\n",
        "        print(\"Hope You Liked Our service\")\n",
        "        break\n",
        "    else:\n",
        "        print(\"You Entered Wrong choice...\")"
      ],
      "metadata": {
        "id": "5Dc3PYz_GpSd",
        "outputId": "6de33317-00f8-49ec-8a32-d0e988060b47",
        "colab": {
          "base_uri": "https://localhost:8080/"
        }
      },
      "execution_count": 1,
      "outputs": [
        {
          "output_type": "stream",
          "name": "stdout",
          "text": [
            "Press 1 for signUp\n",
            "Press 2 for signIn\n",
            "Press 3 for logOut\n",
            "Press 4 for Quit\n",
            "Enter your choice...1\n",
            "Fill Sign In Form\n",
            "sign in\n",
            "Press 1 for signUp\n",
            "Press 2 for signIn\n",
            "Press 3 for logOut\n",
            "Press 4 for Quit\n",
            "Enter your choice...2\n",
            "Fill Sign Up Form\n",
            "sign up\n",
            "Press 1 for signUp\n",
            "Press 2 for signIn\n",
            "Press 3 for logOut\n",
            "Press 4 for Quit\n",
            "Enter your choice...4\n",
            "Thank You for visiting\n",
            "Hope You Liked Our service\n"
          ]
        }
      ]
    }
  ],
  "metadata": {
    "colab": {
      "name": "Welcome To Colaboratory",
      "provenance": [],
      "include_colab_link": true
    },
    "kernelspec": {
      "display_name": "Python 3",
      "name": "python3"
    }
  },
  "nbformat": 4,
  "nbformat_minor": 0
}